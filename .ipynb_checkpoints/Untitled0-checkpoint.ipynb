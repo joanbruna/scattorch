{
 "metadata": {
  "name": "",
  "signature": "sha256:42ec8cefa26bc5c88f47c31a3dbe60f2457ef0f69e8df1b470a930badf664d4d"
 },
 "nbformat": 3,
 "nbformat_minor": 0,
 "worksheets": []
}