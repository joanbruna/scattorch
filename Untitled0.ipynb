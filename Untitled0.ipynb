{
 "metadata": {
  "language": "lua",
  "name": "",
  "signature": "sha256:31a177891d37ea3f2a8917d8c3e6ea32cd8d70f8596e92145eca3c32202a8591"
 },
 "nbformat": 3,
 "nbformat_minor": 0,
 "worksheets": [
  {
   "cells": [
    {
     "cell_type": "code",
     "collapsed": false,
     "input": [
      "require 'torch'\n",
      "require 'nn'\n",
      "require 'cunn';\n",
      "require 'image';\n",
      "require 'xlua';\n",
      "require 'optim';\n",
      "require 'nnx';\n",
      "--require 'unsup';\n",
      "require 'nngraph';\n",
      "dofile('../../scattorch/FeaturePooling.lua');\n",
      "dofile('../../scattorch/scattering.lua');\n",
      "dofile('../th/crop.lua');\n",
      "dofile('../th/randomcnn.lua');"
     ],
     "language": "python",
     "metadata": {},
     "outputs": []
    },
    {
     "cell_type": "code",
     "collapsed": false,
     "input": [
      "net = nn.Sequential()\n",
      "\n",
      "input = nn.Identity()()\n",
      "enc1 = nn.TemporalConvolution(inchannels,nchannels[2], filt_size[2])(input)\n",
      "enc2 = nn.ReLU()(enc1)\n",
      "enc3 = nn.TemporalConvolution(nchannels[2], nchannels[3],filt_size[3])(enc2)\n",
      "enc4 = nn.ReLU()(enc3)\n",
      "\n",
      "pool = nn.TemporalAvgPooling(poolsize)(enc4)\n",
      "\n",
      "dec1 = nn.TemporalConvolution(nchannels[3], nchannels[2], filt_size[3])(enc4)\n",
      "dec2 = nn.ReLU()(dec1)\n",
      "dec3 = nn.TemporalConvolution(nchannels[2], inchannels, filt_size[2])(dec2)\n",
      "out = nn.ReLU()(dec3)\n",
      "\n",
      "net = nn.gModule( {input}, { out, pool } )\n",
      "\n"
     ],
     "language": "python",
     "metadata": {},
     "outputs": []
    }
   ],
   "metadata": {}
  }
 ]
}